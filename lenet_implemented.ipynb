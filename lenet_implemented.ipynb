{
 "cells": [
  {
   "cell_type": "code",
   "execution_count": 1,
   "metadata": {},
   "outputs": [],
   "source": [
    "from sklearn.model_selection import train_test_split\n",
    "from sklearn.utils import shuffle\n",
    "import matplotlib.pyplot as plt\n",
    "from get_data import load_data\n",
    "import numpy as np\n",
    "import random\n",
    "import cv2"
   ]
  },
  {
   "cell_type": "code",
   "execution_count": 2,
   "metadata": {},
   "outputs": [],
   "source": [
    "X, y = load_data()"
   ]
  },
  {
   "cell_type": "code",
   "execution_count": 3,
   "metadata": {},
   "outputs": [],
   "source": [
    "X_ = []\n",
    "for x in X:\n",
    "    X_.append((x-255)/255)\n",
    "X = X_"
   ]
  },
  {
   "cell_type": "code",
   "execution_count": 4,
   "metadata": {},
   "outputs": [],
   "source": [
    "X, y = np.asarray(X), np.asarray(y)"
   ]
  },
  {
   "cell_type": "code",
   "execution_count": 5,
   "metadata": {},
   "outputs": [],
   "source": [
    "X = X.reshape(X.shape[0], X.shape[1], X.shape[2], 1)"
   ]
  },
  {
   "cell_type": "code",
   "execution_count": 10,
   "metadata": {},
   "outputs": [
    {
     "data": {
      "text/plain": [
       "(32, 32, 1)"
      ]
     },
     "execution_count": 10,
     "metadata": {},
     "output_type": "execute_result"
    }
   ],
   "source": [
    "X[0].shape"
   ]
  },
  {
   "cell_type": "code",
   "execution_count": 6,
   "metadata": {},
   "outputs": [],
   "source": [
    "class_bins = {0: 'shake_hands',\n",
    "             1: 'hug',\n",
    "             2: 'kick',\n",
    "             3: 'point',\n",
    "             4: 'punch',\n",
    "             5: 'push'}"
   ]
  },
  {
   "cell_type": "code",
   "execution_count": 12,
   "metadata": {},
   "outputs": [
    {
     "data": {
      "image/png": "[encoded data removed]",
      "text/plain": [
       "<matplotlib.figure.Figure at 0x7fa8b6f8beb8>"
      ]
     },
     "metadata": {},
     "output_type": "display_data"
    },
    {
     "name": "stdout",
     "output_type": "stream",
     "text": [
      "Class -> shake_hands, (0)\n"
     ]
    }
   ],
   "source": [
    "rand_int = random.randint(0, len(X)-1)\n",
    "plt.imshow(X[rand_int][:,:,0], cmap='gray')\n",
    "plt.show()\n",
    "print(f\"Class -> {class_bins[y[rand_int]]}, ({y[rand_int]})\")"
   ]
  },
  {
   "cell_type": "code",
   "execution_count": 13,
   "metadata": {},
   "outputs": [],
   "source": [
    "X_train, X_test, y_train, y_test = train_test_split(X, y, test_size=0.33, random_state=17)"
   ]
  },
  {
   "cell_type": "code",
   "execution_count": 14,
   "metadata": {},
   "outputs": [
    {
     "name": "stdout",
     "output_type": "stream",
     "text": [
      "\n",
      "Image Shape: (32, 32, 1)\n",
      "\n",
      "Training Set:   2034 samples\n",
      "Test Set:       1002 samples\n"
     ]
    }
   ],
   "source": [
    "print()\n",
    "print(\"Image Shape: {}\".format(X_train[0].shape))\n",
    "print()\n",
    "print(\"Training Set:   {} samples\".format(len(X_train)))\n",
    "print(\"Test Set:       {} samples\".format(len(X_test)))"
   ]
  },
  {
   "cell_type": "code",
   "execution_count": 15,
   "metadata": {},
   "outputs": [
    {
     "name": "stderr",
     "output_type": "stream",
     "text": [
      "/home/muhsin/anaconda3/lib/python3.6/importlib/_bootstrap.py:219: RuntimeWarning: compiletime version 3.5 of module 'tensorflow.python.framework.fast_tensor_util' does not match runtime version 3.6\n",
      "  return f(*args, **kwds)\n"
     ]
    }
   ],
   "source": [
    "import tensorflow as tf"
   ]
  },
  {
   "cell_type": "code",
   "execution_count": 34,
   "metadata": {},
   "outputs": [],
   "source": [
    "EPOCHS = 100\n",
    "BATCH_SIZE = 128\n",
    "class_nums = 6"
   ]
  },
  {
   "cell_type": "code",
   "execution_count": 17,
   "metadata": {},
   "outputs": [],
   "source": [
    "X_train, y_train = shuffle(X_train, y_train)"
   ]
  },
  {
   "cell_type": "code",
   "execution_count": 18,
   "metadata": {},
   "outputs": [],
   "source": [
    "X_train = np.asarray(X_train)"
   ]
  },
  {
   "cell_type": "code",
   "execution_count": 28,
   "metadata": {},
   "outputs": [],
   "source": [
    "x = tf.placeholder(tf.float32, (None, 32, 32, 1))\n",
    "y = tf.placeholder(tf.int32, (None))\n",
    "one_hot_y = tf.one_hot(y, class_nums)"
   ]
  },
  {
   "cell_type": "code",
   "execution_count": 29,
   "metadata": {},
   "outputs": [],
   "source": [
    "from tensorflow.contrib.layers import flatten\n",
    "\n",
    "def LeNet(x):    \n",
    "    # Hyperparameters\n",
    "    mu = 0\n",
    "    sigma = 0.1\n",
    "    layer_depth = {\n",
    "        'layer_1' : 6,\n",
    "        'layer_2' : 16,\n",
    "        'layer_3' : 120,\n",
    "        'layer_f1' : 84\n",
    "    }\n",
    "\n",
    "    \n",
    "    ## Layer 1: Convolutional. Input = 32x32x1. Output = 28x28x6.\n",
    "    conv1_w = tf.Variable(tf.truncated_normal(shape = [5,5,1,6],mean = mu, stddev = sigma))\n",
    "    conv1_b = tf.Variable(tf.zeros(6))\n",
    "    conv1 = tf.nn.conv2d(x,conv1_w, strides = [1,1,1,1], padding = 'VALID') + conv1_b \n",
    "    ## Activation.\n",
    "    conv1 = tf.nn.relu(conv1)\n",
    "\n",
    "    ## Pooling. Input = 28x28x6. Output = 14x14x6.\n",
    "    pool_1 = tf.nn.max_pool(conv1,ksize = [1,2,2,1], strides = [1,2,2,1], padding = 'VALID')\n",
    "    \n",
    "    ## Layer 2: Convolutional. Output = 10x10x16.\n",
    "    conv2_w = tf.Variable(tf.truncated_normal(shape = [5,5,6,16], mean = mu, stddev = sigma))\n",
    "    conv2_b = tf.Variable(tf.zeros(16))\n",
    "    conv2 = tf.nn.conv2d(pool_1, conv2_w, strides = [1,1,1,1], padding = 'VALID') + conv2_b\n",
    "    ## Activation.\n",
    "    conv2 = tf.nn.relu(conv2)\n",
    "\n",
    "    ## Pooling. Input = 10x10x16. Output = 5x5x16.\n",
    "    pool_2 = tf.nn.max_pool(conv2, ksize = [1,2,2,1], strides = [1,2,2,1], padding = 'VALID') \n",
    "    \n",
    "    ## Flatten. Input = 5x5x16. Output = 400.\n",
    "    fc1 = flatten(pool_2)\n",
    "    \n",
    "    ## Layer 3: Fully Connected. Input = 400. Output = 120.\n",
    "    fc1_w = tf.Variable(tf.truncated_normal(shape = (400,120), mean = mu, stddev = sigma))\n",
    "    fc1_b = tf.Variable(tf.zeros(120))\n",
    "    fc1 = tf.matmul(fc1,fc1_w) + fc1_b\n",
    "    \n",
    "    ## Activation.\n",
    "    fc1 = tf.nn.relu(fc1)\n",
    "\n",
    "    ## Layer 4: Fully Connected. Input = 120. Output = 84.\n",
    "    fc2_w = tf.Variable(tf.truncated_normal(shape = (120,84), mean = mu, stddev = sigma))\n",
    "    fc2_b = tf.Variable(tf.zeros(84))\n",
    "    fc2 = tf.matmul(fc1,fc2_w) + fc2_b\n",
    "    ## Activation.\n",
    "    fc2 = tf.nn.relu(fc2)\n",
    "    \n",
    "    ## Layer 5: Fully Connected. Input = 84. Output = 10.\n",
    "    fc3_w = tf.Variable(tf.truncated_normal(shape = (84, class_nums), mean = mu , stddev = sigma))\n",
    "    fc3_b = tf.Variable(tf.zeros(class_nums))\n",
    "    logits = tf.matmul(fc2, fc3_w) + fc3_b\n",
    "    return logits"
   ]
  },
  {
   "cell_type": "code",
   "execution_count": 30,
   "metadata": {},
   "outputs": [],
   "source": [
    "rate = 0.001\n",
    "\n",
    "logits = LeNet(x)\n",
    "cross_entropy = tf.nn.softmax_cross_entropy_with_logits(logits=logits, labels=one_hot_y)\n",
    "loss_operation = tf.reduce_mean(cross_entropy)\n",
    "optimizer = tf.train.AdamOptimizer(learning_rate = rate)\n",
    "training_operation = optimizer.minimize(loss_operation)"
   ]
  },
  {
   "cell_type": "code",
   "execution_count": 31,
   "metadata": {},
   "outputs": [],
   "source": [
    "correct_prediction = tf.equal(tf.argmax(logits, 1), tf.argmax(one_hot_y, 1))\n",
    "accuracy_operation = tf.reduce_mean(tf.cast(correct_prediction, tf.float32))\n",
    "saver = tf.train.Saver()\n",
    "\n",
    "def evaluate(X_data, y_data):\n",
    "    num_examples = len(X_data)\n",
    "    total_accuracy = 0\n",
    "    sess = tf.get_default_session()\n",
    "    for offset in range(0, num_examples, BATCH_SIZE):\n",
    "        batch_x, batch_y = X_data[offset:offset+BATCH_SIZE], y_data[offset:offset+BATCH_SIZE]\n",
    "        accuracy = sess.run(accuracy_operation, feed_dict={x: batch_x, y: batch_y})\n",
    "        total_accuracy += (accuracy * len(batch_x))\n",
    "    return total_accuracy / num_examples"
   ]
  },
  {
   "cell_type": "code",
   "execution_count": 35,
   "metadata": {},
   "outputs": [
    {
     "name": "stdout",
     "output_type": "stream",
     "text": [
      "Training...\n",
      "\n",
      "EPOCH 1 ...\n",
      "Validation Accuracy = 0.294/\n",
      "\n",
      "EPOCH 2 ...\n",
      "Validation Accuracy = 0.383/\n",
      "\n",
      "EPOCH 3 ...\n",
      "Validation Accuracy = 0.352/\n",
      "\n",
      "EPOCH 4 ...\n",
      "Validation Accuracy = 0.352/\n",
      "\n",
      "EPOCH 5 ...\n",
      "Validation Accuracy = 0.399/\n",
      "\n",
      "EPOCH 6 ...\n",
      "Validation Accuracy = 0.481/\n",
      "\n",
      "EPOCH 7 ...\n",
      "Validation Accuracy = 0.475/\n",
      "\n",
      "EPOCH 8 ...\n",
      "Validation Accuracy = 0.569/\n",
      "\n",
      "EPOCH 9 ...\n",
      "Validation Accuracy = 0.635/\n",
      "\n",
      "EPOCH 10 ...\n",
      "Validation Accuracy = 0.653/\n",
      "\n",
      "EPOCH 11 ...\n",
      "Validation Accuracy = 0.679/\n",
      "\n",
      "EPOCH 12 ...\n",
      "Validation Accuracy = 0.717/\n",
      "\n",
      "EPOCH 13 ...\n",
      "Validation Accuracy = 0.718/\n",
      "\n",
      "EPOCH 14 ...\n",
      "Validation Accuracy = 0.754/\n",
      "\n",
      "EPOCH 15 ...\n",
      "Validation Accuracy = 0.727/\n",
      "\n",
      "EPOCH 16 ...\n",
      "Validation Accuracy = 0.802/\n",
      "\n",
      "EPOCH 17 ...\n",
      "Validation Accuracy = 0.817/\n",
      "\n",
      "EPOCH 18 ...\n",
      "Validation Accuracy = 0.809/\n",
      "\n",
      "EPOCH 19 ...\n",
      "Validation Accuracy = 0.831/\n",
      "\n",
      "EPOCH 20 ...\n",
      "Validation Accuracy = 0.871/\n",
      "\n",
      "EPOCH 21 ...\n",
      "Validation Accuracy = 0.852/\n",
      "\n",
      "EPOCH 22 ...\n",
      "Validation Accuracy = 0.841/\n",
      "\n",
      "EPOCH 23 ...\n",
      "Validation Accuracy = 0.906/\n",
      "\n",
      "EPOCH 24 ...\n",
      "Validation Accuracy = 0.887/\n",
      "\n",
      "EPOCH 25 ...\n",
      "Validation Accuracy = 0.891/\n",
      "\n",
      "EPOCH 26 ...\n",
      "Validation Accuracy = 0.905/\n",
      "\n",
      "EPOCH 27 ...\n",
      "Validation Accuracy = 0.940/\n",
      "\n",
      "EPOCH 28 ...\n",
      "Validation Accuracy = 0.908/\n",
      "\n",
      "EPOCH 29 ...\n",
      "Validation Accuracy = 0.946/\n",
      "\n",
      "EPOCH 30 ...\n",
      "Validation Accuracy = 0.950/\n",
      "\n",
      "EPOCH 31 ...\n",
      "Validation Accuracy = 0.944/\n",
      "\n",
      "EPOCH 32 ...\n",
      "Validation Accuracy = 0.952/\n",
      "\n",
      "EPOCH 33 ...\n",
      "Validation Accuracy = 0.940/\n",
      "\n",
      "EPOCH 34 ...\n",
      "Validation Accuracy = 0.958/\n",
      "\n",
      "EPOCH 35 ...\n",
      "Validation Accuracy = 0.960/\n",
      "\n",
      "EPOCH 36 ...\n",
      "Validation Accuracy = 0.961/\n",
      "\n",
      "EPOCH 37 ...\n",
      "Validation Accuracy = 0.956/\n",
      "\n",
      "EPOCH 38 ...\n",
      "Validation Accuracy = 0.971/\n",
      "\n",
      "EPOCH 39 ...\n",
      "Validation Accuracy = 0.969/\n",
      "\n",
      "EPOCH 40 ...\n",
      "Validation Accuracy = 0.972/\n",
      "\n",
      "EPOCH 41 ...\n",
      "Validation Accuracy = 0.973/\n",
      "\n",
      "EPOCH 42 ...\n",
      "Validation Accuracy = 0.971/\n",
      "\n",
      "EPOCH 43 ...\n",
      "Validation Accuracy = 0.971/\n",
      "\n",
      "EPOCH 44 ...\n",
      "Validation Accuracy = 0.967/\n",
      "\n",
      "EPOCH 45 ...\n",
      "Validation Accuracy = 0.973/\n",
      "\n",
      "EPOCH 46 ...\n",
      "Validation Accuracy = 0.976/\n",
      "\n",
      "EPOCH 47 ...\n",
      "Validation Accuracy = 0.964/\n",
      "\n",
      "EPOCH 48 ...\n",
      "Validation Accuracy = 0.977/\n",
      "\n",
      "EPOCH 49 ...\n",
      "Validation Accuracy = 0.981/\n",
      "\n",
      "EPOCH 50 ...\n",
      "Validation Accuracy = 0.977/\n",
      "\n",
      "EPOCH 51 ...\n",
      "Validation Accuracy = 0.978/\n",
      "\n",
      "EPOCH 52 ...\n",
      "Validation Accuracy = 0.969/\n",
      "\n",
      "EPOCH 53 ...\n",
      "Validation Accuracy = 0.986/\n",
      "\n",
      "EPOCH 54 ...\n",
      "Validation Accuracy = 0.983/\n",
      "\n",
      "EPOCH 55 ...\n",
      "Validation Accuracy = 0.987/\n",
      "\n",
      "EPOCH 56 ...\n",
      "Validation Accuracy = 0.979/\n",
      "\n",
      "EPOCH 57 ...\n",
      "Validation Accuracy = 0.981/\n",
      "\n",
      "EPOCH 58 ...\n",
      "Validation Accuracy = 0.965/\n",
      "\n",
      "EPOCH 59 ...\n",
      "Validation Accuracy = 0.985/\n",
      "\n",
      "EPOCH 60 ...\n",
      "Validation Accuracy = 0.979/\n",
      "\n",
      "EPOCH 61 ...\n",
      "Validation Accuracy = 0.985/\n",
      "\n",
      "EPOCH 62 ...\n",
      "Validation Accuracy = 0.986/\n",
      "\n",
      "EPOCH 63 ...\n",
      "Validation Accuracy = 0.984/\n",
      "\n",
      "EPOCH 64 ...\n",
      "Validation Accuracy = 0.987/\n",
      "\n",
      "EPOCH 65 ...\n",
      "Validation Accuracy = 0.986/\n",
      "\n",
      "EPOCH 66 ...\n",
      "Validation Accuracy = 0.985/\n",
      "\n",
      "EPOCH 67 ...\n",
      "Validation Accuracy = 0.985/\n",
      "\n",
      "EPOCH 68 ...\n",
      "Validation Accuracy = 0.986/\n",
      "\n",
      "EPOCH 69 ...\n",
      "Validation Accuracy = 0.987/\n",
      "\n",
      "EPOCH 70 ...\n",
      "Validation Accuracy = 0.984/\n",
      "\n",
      "EPOCH 71 ...\n",
      "Validation Accuracy = 0.986/\n",
      "\n",
      "EPOCH 72 ...\n",
      "Validation Accuracy = 0.984/\n",
      "\n",
      "EPOCH 73 ...\n",
      "Validation Accuracy = 0.981/\n",
      "\n",
      "EPOCH 74 ...\n",
      "Validation Accuracy = 0.986/\n",
      "\n",
      "EPOCH 75 ...\n",
      "Validation Accuracy = 0.984/\n",
      "\n",
      "EPOCH 76 ...\n",
      "Validation Accuracy = 0.986/\n",
      "\n",
      "EPOCH 77 ...\n",
      "Validation Accuracy = 0.987/\n",
      "\n",
      "EPOCH 78 ...\n",
      "Validation Accuracy = 0.987/\n",
      "\n",
      "EPOCH 79 ...\n",
      "Validation Accuracy = 0.987/\n",
      "\n",
      "EPOCH 80 ...\n",
      "Validation Accuracy = 0.988/\n",
      "\n",
      "EPOCH 81 ...\n",
      "Validation Accuracy = 0.986/\n",
      "\n",
      "EPOCH 82 ...\n",
      "Validation Accuracy = 0.988/\n",
      "\n",
      "EPOCH 83 ...\n",
      "Validation Accuracy = 0.987/\n",
      "\n",
      "EPOCH 84 ...\n",
      "Validation Accuracy = 0.987/\n",
      "\n",
      "EPOCH 85 ...\n",
      "Validation Accuracy = 0.987/\n",
      "\n",
      "EPOCH 86 ...\n",
      "Validation Accuracy = 0.988/\n",
      "\n",
      "EPOCH 87 ...\n",
      "Validation Accuracy = 0.986/\n",
      "\n",
      "EPOCH 88 ...\n",
      "Validation Accuracy = 0.985/\n",
      "\n",
      "EPOCH 89 ...\n",
      "Validation Accuracy = 0.988/\n",
      "\n",
      "EPOCH 90 ...\n",
      "Validation Accuracy = 0.986/\n",
      "\n",
      "EPOCH 91 ...\n",
      "Validation Accuracy = 0.986/\n",
      "\n",
      "EPOCH 92 ...\n",
      "Validation Accuracy = 0.988/\n",
      "\n",
      "EPOCH 93 ...\n",
      "Validation Accuracy = 0.985/\n",
      "\n",
      "EPOCH 94 ...\n",
      "Validation Accuracy = 0.985/\n",
      "\n",
      "EPOCH 95 ...\n",
      "Validation Accuracy = 0.985/\n",
      "\n",
      "EPOCH 96 ...\n",
      "Validation Accuracy = 0.985/\n",
      "\n",
      "EPOCH 97 ...\n",
      "Validation Accuracy = 0.988/\n",
      "\n",
      "EPOCH 98 ...\n",
      "Validation Accuracy = 0.985/\n",
      "\n",
      "EPOCH 99 ...\n",
      "Validation Accuracy = 0.988/\n",
      "\n",
      "EPOCH 100 ...\n",
      "Validation Accuracy = 0.985/\n",
      "\n",
      "Model saved\n"
     ]
    }
   ],
   "source": [
    "with tf.Session() as sess:\n",
    "    sess.run(tf.global_variables_initializer())\n",
    "    num_examples = len(X_train)\n",
    "    \n",
    "    print(\"Training...\")\n",
    "    print()\n",
    "    for i in range(EPOCHS):\n",
    "        X_train, y_train = shuffle(X_train, y_train)\n",
    "        for offset in range(0, num_examples, BATCH_SIZE):\n",
    "            end = offset + BATCH_SIZE\n",
    "            batch_x, batch_y = X_train[offset:end], y_train[offset:end]\n",
    "            sess.run(training_operation, feed_dict={x: batch_x, y: batch_y})\n",
    "            \n",
    "        validation_accuracy = evaluate(X_test, y_test)\n",
    "        print(\"EPOCH {} ...\".format(i+1))\n",
    "        print(\"Validation Accuracy = {:.3f}/\".format(validation_accuracy))\n",
    "        print()\n",
    "        \n",
    "    saver.save(sess, './model/lenet_32_')\n",
    "    print(\"Model saved\")"
   ]
  },
  {
   "cell_type": "code",
   "execution_count": 42,
   "metadata": {},
   "outputs": [
    {
     "name": "stdout",
     "output_type": "stream",
     "text": [
      "INFO:tensorflow:Restoring parameters from ./model/lenet_32_\n",
      "Test Accuracy = 0.985\n"
     ]
    }
   ],
   "source": [
    "with tf.Session() as sess:\n",
    "    saver.restore(sess, tf.train.latest_checkpoint('./model/'))\n",
    "    test_accuracy = evaluate(X_test, y_test)\n",
    "    print(\"Test Accuracy = {:.3f}\".format(test_accuracy))\n",
    "    "
   ]
  },
  {
   "cell_type": "code",
   "execution_count": 90,
   "metadata": {},
   "outputs": [
    {
     "name": "stdout",
     "output_type": "stream",
     "text": [
      "606\n"
     ]
    },
    {
     "data": {
      "image/png": "[encoded data removed]",
      "text/plain": [
       "<matplotlib.figure.Figure at 0x7fa844193d30>"
      ]
     },
     "metadata": {},
     "output_type": "display_data"
    },
    {
     "name": "stdout",
     "output_type": "stream",
     "text": [
      "Actual Class -> push, (5)\n",
      "INFO:tensorflow:Restoring parameters from ./model/lenet_32_\n",
      "[[-23.4986515   12.29999542  -8.26236153 -28.28502846  12.90306187\n",
      "   27.90250206]]\n",
      "\n",
      "Model prediction -> push, (5)\n"
     ]
    }
   ],
   "source": [
    "## inference on random test image\n",
    "\n",
    "rand_int = random.randint(0, len(X_test)-1)\n",
    "print(rand_int)\n",
    "plt.imshow(X_test[rand_int][:,:,0], cmap='gray')\n",
    "plt.show()\n",
    "print(f\"Actual Class -> {class_bins[y_test[rand_int]]}, ({y_test[rand_int]})\")\n",
    "\n",
    "test_img = X_test[rand_int]\n",
    "dim = test_img.shape\n",
    "test_img = test_img.reshape(1, dim[0], dim[1], dim[2])\n",
    "\n",
    "with tf.Session() as sess:\n",
    "    saver.restore(sess, tf.train.latest_checkpoint('./model/'))\n",
    "    output = sess.run(logits, feed_dict={x: test_img})\n",
    "    print(output)\n",
    "    print()\n",
    "    print(f'Model prediction -> {class_bins[y_test[rand_int]]}, ({np.argmax(output)})')"
   ]
  },
  {
   "cell_type": "code",
   "execution_count": null,
   "metadata": {},
   "outputs": [],
   "source": []
  }
 ],
 "metadata": {
  "kernelspec": {
   "display_name": "Python 3",
   "language": "python",
   "name": "python3"
  },
  "language_info": {
   "codemirror_mode": {
    "name": "ipython",
    "version": 3
   },
   "file_extension": ".py",
   "mimetype": "text/x-python",
   "name": "python",
   "nbconvert_exporter": "python",
   "pygments_lexer": "ipython3",
   "version": "3.6.3"
  }
 },
 "nbformat": 4,
 "nbformat_minor": 2
}
