{
 "cells": [
  {
   "cell_type": "code",
   "execution_count": 1,
   "metadata": {},
   "outputs": [],
   "source": [
    "import matplotlib.pyplot as plt\n",
    "import numpy as np\n",
    "import cv2\n",
    "import os"
   ]
  },
  {
   "cell_type": "code",
   "execution_count": 2,
   "metadata": {},
   "outputs": [],
   "source": [
    "## TODO make it DRY\n",
    "# img_src = './data/img_data_seg_1/'\n",
    "# img_dst = './data/img_preprocessed_set_1/'\n",
    "img_src = './data/img_data_seg_2/'\n",
    "img_dst = './data/img_preprocessed_set_2/'"
   ]
  },
  {
   "cell_type": "code",
   "execution_count": 3,
   "metadata": {},
   "outputs": [
    {
     "name": "stdout",
     "output_type": "stream",
     "text": [
      "Number of images in dir 2751\n"
     ]
    }
   ],
   "source": [
    "file_name_list = os.listdir(img_src)\n",
    "print(f\"Number of images in dir {len(file_name_list)}\")"
   ]
  },
  {
   "cell_type": "code",
   "execution_count": 4,
   "metadata": {},
   "outputs": [],
   "source": [
    "## Get estimates:\n",
    "## number of images per class\n",
    "## number of images per sequence per class"
   ]
  },
  {
   "cell_type": "code",
   "execution_count": 5,
   "metadata": {},
   "outputs": [],
   "source": [
    "class_bins = {0: 'shake_hands',\n",
    "             1: 'hug',\n",
    "             2: 'kick',\n",
    "             3: 'point',\n",
    "             4: 'punch',\n",
    "             5: 'push'}"
   ]
  },
  {
   "cell_type": "code",
   "execution_count": 6,
   "metadata": {},
   "outputs": [
    {
     "name": "stdout",
     "output_type": "stream",
     "text": [
      "{'files_of_0': None, 'files_of_1': None, 'files_of_2': None, 'files_of_3': None, 'files_of_4': None, 'files_of_5': None}\n"
     ]
    }
   ],
   "source": [
    "# a dictionary to hold all filenames by respective classes\n",
    "all_files = [f'files_of_{cls}' for cls in list(class_bins.keys())]\n",
    "all_files = dict.fromkeys(all_files)\n",
    "print(all_files)"
   ]
  },
  {
   "cell_type": "code",
   "execution_count": 7,
   "metadata": {},
   "outputs": [],
   "source": [
    "def getClassNum(video_file_name):\n",
    "    \"\"\"does some string operations to obtain class num\"\"\"\n",
    "    file_parts = video_file_name.split('_')\n",
    "    class_of_file = int(file_parts[0])\n",
    "    return class_of_file"
   ]
  },
  {
   "cell_type": "code",
   "execution_count": 8,
   "metadata": {},
   "outputs": [],
   "source": [
    "def closureFilterClass(class_num):\n",
    "    def filterByClass(file_name):\n",
    "        if getClassNum(file_name)==class_num:\n",
    "            return True\n",
    "        else:\n",
    "            return False\n",
    "    return filterByClass"
   ]
  },
  {
   "cell_type": "code",
   "execution_count": 9,
   "metadata": {},
   "outputs": [],
   "source": [
    "for key, val in class_bins.items():\n",
    "    filter_c = closureFilterClass(key)\n",
    "    temp = list(filter(filter_c, file_name_list))\n",
    "    dict_key_name = f\"files_of_{key}\"\n",
    "    all_files[dict_key_name] = temp"
   ]
  },
  {
   "cell_type": "code",
   "execution_count": 10,
   "metadata": {},
   "outputs": [
    {
     "name": "stdout",
     "output_type": "stream",
     "text": [
      "number of images per class : \n",
      "shake_hands, (0) \t--> 644\n",
      "hug, (1) \t--> 697\n",
      "kick, (2) \t--> 448\n",
      "point, (3) \t--> 0\n",
      "punch, (4) \t--> 436\n",
      "push, (5) \t--> 526\n"
     ]
    }
   ],
   "source": [
    "print(\"number of images per class : \")\n",
    "for key, val in class_bins.items():\n",
    "    dict_key_name = f\"files_of_{key}\"\n",
    "    print(f\"{val}, ({key}) \\t--> {len(all_files[dict_key_name])}\")"
   ]
  },
  {
   "cell_type": "code",
   "execution_count": 11,
   "metadata": {},
   "outputs": [],
   "source": [
    "def readImg(file_name, loc_src=img_src):\n",
    "    file_loc = loc_src + file_name\n",
    "    img = cv2.imread(file_loc)\n",
    "    return img"
   ]
  },
  {
   "cell_type": "code",
   "execution_count": 12,
   "metadata": {},
   "outputs": [],
   "source": [
    "def imgPreprocessor(img):\n",
    "    img_gray = cv2.cvtColor(img, cv2.COLOR_BGR2GRAY)\n",
    "    # Size of original images\n",
    "    # max-min range --> (332-216, 612, 244)\n",
    "    # avg range --> (260, 380)\n",
    "    img_gray = cv2.resize(img_gray, (70, 95))\n",
    "    img_gauss = cv2.GaussianBlur(img_gray, (5,5), 0)\n",
    "    img_norm = np.empty_like((img_gauss))\n",
    "    img_norm = cv2.normalize(img_gauss, img_norm, 0, 255, cv2.NORM_MINMAX)\n",
    "    return img_norm"
   ]
  },
  {
   "cell_type": "code",
   "execution_count": 13,
   "metadata": {},
   "outputs": [],
   "source": [
    "def writeImg(img, file_name, loc_dst=img_dst):\n",
    "    file_loc = loc_dst + file_name\n",
    "    cv2.imwrite(file_loc, img)"
   ]
  },
  {
   "cell_type": "code",
   "execution_count": 14,
   "metadata": {},
   "outputs": [],
   "source": [
    "def preprocessAndWrite(file_name):\n",
    "    img = readImg(file_name)\n",
    "    img_p = imgPreprocessor(img)\n",
    "    writeImg(img_p, file_name)"
   ]
  },
  {
   "cell_type": "code",
   "execution_count": 15,
   "metadata": {},
   "outputs": [],
   "source": [
    "# write all images into new directory after preprocessing\n",
    "for img_file in file_name_list:\n",
    "    preprocessAndWrite(img_file)"
   ]
  },
  {
   "cell_type": "code",
   "execution_count": null,
   "metadata": {},
   "outputs": [],
   "source": []
  }
 ],
 "metadata": {
  "kernelspec": {
   "display_name": "Python 3",
   "language": "python",
   "name": "python3"
  },
  "language_info": {
   "codemirror_mode": {
    "name": "ipython",
    "version": 3
   },
   "file_extension": ".py",
   "mimetype": "text/x-python",
   "name": "python",
   "nbconvert_exporter": "python",
   "pygments_lexer": "ipython3",
   "version": "3.6.3"
  }
 },
 "nbformat": 4,
 "nbformat_minor": 2
}
