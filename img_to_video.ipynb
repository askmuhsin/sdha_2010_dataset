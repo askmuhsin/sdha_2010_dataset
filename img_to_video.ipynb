{
 "cells": [
  {
   "cell_type": "code",
   "execution_count": 1,
   "metadata": {},
   "outputs": [],
   "source": [
    "import matplotlib.pyplot as plt\n",
    "import numpy as np\n",
    "import sys\n",
    "import glob\n",
    "import os"
   ]
  },
  {
   "cell_type": "code",
   "execution_count": 2,
   "metadata": {},
   "outputs": [],
   "source": [
    "loc_src = './data/segmented_set1/'\n",
    "loc_dst = './data/img_data_seg_1/'"
   ]
  },
  {
   "cell_type": "code",
   "execution_count": 3,
   "metadata": {},
   "outputs": [],
   "source": [
    "file_list = os.listdir(loc_src)"
   ]
  },
  {
   "cell_type": "code",
   "execution_count": 4,
   "metadata": {},
   "outputs": [],
   "source": [
    "class_bins = {0: 'shake_hands',\n",
    "             1: 'hug',\n",
    "             2: 'kick',\n",
    "             3: 'point',\n",
    "             4: 'punch',\n",
    "             5: 'push'}"
   ]
  },
  {
   "cell_type": "code",
   "execution_count": 5,
   "metadata": {},
   "outputs": [],
   "source": [
    "activity_class_count = []\n",
    "for file in file_list:\n",
    "    file_parts = file.split('_')\n",
    "    class_of_file = int(file_parts[2].split('.')[0])\n",
    "    activity_class_count.append(class_bins.get(class_of_file))"
   ]
  },
  {
   "cell_type": "code",
   "execution_count": 6,
   "metadata": {},
   "outputs": [
    {
     "name": "stdout",
     "output_type": "stream",
     "text": [
      "occurance of shake_hands in dataset is 10 times\n",
      "occurance of hug in dataset is 10 times\n",
      "occurance of kick in dataset is 10 times\n",
      "occurance of point in dataset is 10 times\n",
      "occurance of punch in dataset is 10 times\n",
      "occurance of push in dataset is 10 times\n"
     ]
    }
   ],
   "source": [
    "for key, class_ in class_bins.items():\n",
    "    print(f\"occurance of {class_} in dataset is {activity_class_count.count(class_)} times\")"
   ]
  },
  {
   "cell_type": "code",
   "execution_count": 7,
   "metadata": {},
   "outputs": [],
   "source": [
    "def generateImages(video_file_name, seq_num):\n",
    "    \"\"\"to run ffpmeg command and generate images\"\"\"\n",
    "    class_of_vid = getClassNum(video_file_name)\n",
    "    ffmpeg_cmd = wrapFfmpegCmd(video_file_name, class_of_vid, seq_num)\n",
    "    os.system(ffmpeg_cmd)"
   ]
  },
  {
   "cell_type": "code",
   "execution_count": 8,
   "metadata": {},
   "outputs": [],
   "source": [
    "def getClassNum(video_file_name):\n",
    "    \"\"\"does some string operations to obtain classname\"\"\"\n",
    "    file_parts = video_file_name.split('_')\n",
    "    class_of_file = int(file_parts[2].split('.')[0])\n",
    "    return class_of_file"
   ]
  },
  {
   "cell_type": "code",
   "execution_count": 10,
   "metadata": {},
   "outputs": [],
   "source": [
    "def wrapFfmpegCmd(file_name, cls_num, seq_num, loc_src=loc_src, loc_dst=loc_dst, frame_rate=15):\n",
    "    \"\"\"Generates ffmpeg command to conver video into images\"\"\"\n",
    "    file_loc = loc_src + file_name\n",
    "    gen_file_name = f\"{cls_num}_{seq_num}_%d.png\"\n",
    "    gen_file_loc = loc_dst + gen_file_name\n",
    "    command = f\"ffmpeg -i {file_loc} -r {frame_rate} {gen_file_loc}\"\n",
    "    return command"
   ]
  },
  {
   "cell_type": "code",
   "execution_count": 11,
   "metadata": {},
   "outputs": [],
   "source": [
    "# a dictionary to hold all filenames by respective classes\n",
    "all_files = [f'files_of_{cls}' for cls in list(class_bins.keys())]\n",
    "all_files = dict.fromkeys(all_files)"
   ]
  },
  {
   "cell_type": "code",
   "execution_count": 12,
   "metadata": {},
   "outputs": [],
   "source": [
    "# a closure function designed to filter and group filenames by class\n",
    "def closureFilter(cls_num):\n",
    "    def filterByClass(file):\n",
    "        if getClassNum(file)==cls_num:\n",
    "            return True\n",
    "        else:\n",
    "            return False\n",
    "    return filterByClass"
   ]
  },
  {
   "cell_type": "code",
   "execution_count": 13,
   "metadata": {},
   "outputs": [],
   "source": [
    "# populate the dictionary with file names grouped into respective classes\n",
    "for key, val in class_bins.items():\n",
    "    filter_current = closureFilter(key)\n",
    "    store_temp = list(filter(filter_current, file_list))\n",
    "    dict_key_name = f\"files_of_{key}\"\n",
    "    all_files[dict_key_name] = store_temp"
   ]
  },
  {
   "cell_type": "code",
   "execution_count": 14,
   "metadata": {},
   "outputs": [],
   "source": [
    "# run through all the classes and generate image files\n",
    "for key, val in all_files.items():\n",
    "    seq_ = 0 # every class has more than one sequence of actions recorded\n",
    "    for file in val:\n",
    "        generateImages(file, seq_)\n",
    "        seq_+=1"
   ]
  },
  {
   "cell_type": "code",
   "execution_count": null,
   "metadata": {},
   "outputs": [],
   "source": []
  }
 ],
 "metadata": {
  "kernelspec": {
   "display_name": "Python 3",
   "language": "python",
   "name": "python3"
  },
  "language_info": {
   "codemirror_mode": {
    "name": "ipython",
    "version": 3
   },
   "file_extension": ".py",
   "mimetype": "text/x-python",
   "name": "python",
   "nbconvert_exporter": "python",
   "pygments_lexer": "ipython3",
   "version": "3.6.3"
  }
 },
 "nbformat": 4,
 "nbformat_minor": 2
}
